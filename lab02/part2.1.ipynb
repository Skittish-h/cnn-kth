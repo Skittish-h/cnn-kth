{
 "cells": [
  {
   "metadata": {},
   "cell_type": "code",
   "outputs": [],
   "execution_count": null,
   "source": [
    "import numpy as np\n",
    "\n",
    "class SOM:\n",
    "    def __init__(self, input_size, num_nodes=100, initial_lr=0.2):\n",
    "        self.num_nodes = num_nodes\n",
    "        self.weights = np.random.rand(num_nodes, input_size)  # Random numbers between 0 and 1\n",
    "        self.initial_lr = initial_lr\n",
    "        self.lr = initial_lr\n",
    "        self.neighborhood_size = None  # Will be updated during training\n",
    "\n",
    "    def train(self, X, epochs):\n",
    "        for epoch in range(epochs):\n",
    "            # Decrease neighborhood size over time\n",
    "            self.neighborhood_size = int(50 * (1 - epoch / epochs))\n",
    "            # Ensure neighborhood size doesn't go below zero\n",
    "            self.neighborhood_size = max(self.neighborhood_size, 0)\n",
    "            for x in X:\n",
    "                self.update_weights(x)\n",
    "            \n",
    "\n",
    "    def update_weights(self, x):\n",
    "        winner = self.find_winner(x)\n",
    "        # Compute indices of nodes within the neighborhood\n",
    "        indices = np.arange(self.num_nodes)\n",
    "        distances = np.abs(indices - winner)\n",
    "        neighbor_indices = indices[distances <= self.neighborhood_size]\n",
    "        # Update weights\n",
    "        for i in neighbor_indices:\n",
    "            self.weights[i] += self.lr * (x - self.weights[i])\n",
    "\n",
    "    def find_winner(self, x):\n",
    "        distances = np.linalg.norm(self.weights - x, axis=1)\n",
    "        winner = np.argmin(distances)\n",
    "        return winner\n",
    "\n",
    "    def get_positions(self, X):\n",
    "        positions = []\n",
    "        for x in X:\n",
    "            winner = self.find_winner(x)\n",
    "            positions.append(winner)\n",
    "        return positions\n"
   ],
   "id": "4c8d68b2a86fed85"
  },
  {
   "cell_type": "code",
   "id": "initial_id",
   "metadata": {
    "collapsed": true,
    "ExecuteTime": {
     "end_time": "2024-09-30T11:55:29.989713Z",
     "start_time": "2024-09-30T11:55:29.983139Z"
    }
   },
   "source": [
    "import numpy as np\n",
    "\n",
    "# Load 'animals.dat'\n",
    "with open('data_lab2/animals.dat', 'r') as f:\n",
    "    data = f.read()\n",
    "\n",
    "# Split the data by commas and convert to integers\n",
    "values = list(map(int, data.strip().split(',')))\n",
    "\n",
    "# Ensure we have the correct number of values (32 animals * 84 attributes = 2688)\n",
    "assert len(values) == 32 * 84, f\"Expected 2688 values, got {len(values)}\"\n",
    "\n",
    "# Reshape into a 32x84 numpy array\n",
    "props = np.array(values).reshape(32, 84)\n"
   ],
   "outputs": [],
   "execution_count": 15
  },
  {
   "metadata": {
    "ExecuteTime": {
     "end_time": "2024-09-30T11:56:16.367826Z",
     "start_time": "2024-09-30T11:56:16.361977Z"
    }
   },
   "cell_type": "code",
   "source": [
    "# Load 'animalnames.txt'\n",
    "with open('data_lab2/animalnames.txt', 'r') as f:\n",
    "    names_line = f.read()\n",
    "\n",
    "# Split the names by tabs and strip the quotes\n",
    "animal_names = [name.strip().strip(\"'\") for name in names_line.strip().split('\\n')]\n",
    "\n",
    "\n",
    "# Ensure we have 32 animal names\n",
    "assert len(animal_names) == 32, f\"Expected 32 animal names, got {len(animal_names)}\"\n"
   ],
   "id": "88f95dd8441beb14",
   "outputs": [
    {
     "name": "stdout",
     "output_type": "stream",
     "text": [
      "['antelop', 'ape', 'bat', 'bear', 'beetle', 'butterfly', 'camel', 'cat', 'crocodile', 'dog', 'dragonfly', 'duck', 'elephant', 'frog', 'giraffe', 'grasshopper', 'horse', 'housefly', 'hyena', 'kangaroo', 'lion', 'moskito', 'ostrich', 'pelican', 'penguin', 'pig', 'rabbit', 'rat', 'seaturtle', 'skunk', 'spider', 'walrus']\n"
     ]
    }
   ],
   "execution_count": 19
  },
  {
   "metadata": {
    "ExecuteTime": {
     "end_time": "2024-09-30T11:56:23.320724Z",
     "start_time": "2024-09-30T11:56:23.237505Z"
    }
   },
   "cell_type": "code",
   "source": [
    "\n",
    "\n",
    "# Initialize the SOM\n",
    "input_size = props.shape[1]  # 84 attributes\n",
    "som = SOM(input_size=input_size)\n",
    "\n",
    "# Train the SOM\n",
    "epochs = 20\n",
    "som.train(props, epochs)\n",
    "\n",
    "# Get positions\n",
    "positions = som.get_positions(props)\n",
    "\n",
    "# Pair each animal with its position\n",
    "animal_positions = list(zip(animal_names, positions))\n",
    "\n",
    "# Sort animals based on their positions\n",
    "sorted_animals = sorted(animal_positions, key=lambda x: x[1])\n",
    "\n",
    "# Print the sorted animal names\n",
    "for name, pos in sorted_animals:\n",
    "    print(f\"{name} at position {pos}\")\n",
    "\n",
    "\n"
   ],
   "id": "d5d7bca396a591f5",
   "outputs": [
    {
     "name": "stdout",
     "output_type": "stream",
     "text": [
      "beetle at position 0\n",
      "dragonfly at position 0\n",
      "grasshopper at position 0\n",
      "butterfly at position 5\n",
      "housefly at position 8\n",
      "moskito at position 8\n",
      "spider at position 13\n",
      "duck at position 23\n",
      "pelican at position 23\n",
      "penguin at position 28\n",
      "ostrich at position 31\n",
      "frog at position 36\n",
      "seaturtle at position 41\n",
      "crocodile at position 42\n",
      "walrus at position 49\n",
      "dog at position 54\n",
      "hyena at position 59\n",
      "bear at position 60\n",
      "lion at position 64\n",
      "ape at position 67\n",
      "cat at position 70\n",
      "skunk at position 73\n",
      "bat at position 78\n",
      "rat at position 81\n",
      "elephant at position 85\n",
      "rabbit at position 88\n",
      "kangaroo at position 91\n",
      "antelop at position 93\n",
      "horse at position 96\n",
      "camel at position 99\n",
      "giraffe at position 99\n",
      "pig at position 99\n"
     ]
    }
   ],
   "execution_count": 20
  },
  {
   "metadata": {},
   "cell_type": "code",
   "source": "",
   "id": "6b58a8f8252855ef",
   "outputs": [],
   "execution_count": null
  },
  {
   "metadata": {},
   "cell_type": "code",
   "source": "",
   "id": "7c2cc98d978cb7d0",
   "outputs": [],
   "execution_count": null
  }
 ],
 "metadata": {
  "kernelspec": {
   "display_name": "Python 3",
   "language": "python",
   "name": "python3"
  },
  "language_info": {
   "codemirror_mode": {
    "name": "ipython",
    "version": 2
   },
   "file_extension": ".py",
   "mimetype": "text/x-python",
   "name": "python",
   "nbconvert_exporter": "python",
   "pygments_lexer": "ipython2",
   "version": "2.7.6"
  }
 },
 "nbformat": 4,
 "nbformat_minor": 5
}
